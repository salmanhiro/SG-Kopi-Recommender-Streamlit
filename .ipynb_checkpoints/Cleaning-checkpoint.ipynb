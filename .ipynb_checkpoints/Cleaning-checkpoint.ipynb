{
 "cells": [
  {
   "cell_type": "code",
   "execution_count": 113,
   "id": "614c901e",
   "metadata": {},
   "outputs": [],
   "source": [
    "import pandas as pd"
   ]
  },
  {
   "cell_type": "code",
   "execution_count": 117,
   "id": "1405e7dd",
   "metadata": {},
   "outputs": [],
   "source": [
    "df_sg = pd.read_csv(\"Grab SG Restaurants.csv\")"
   ]
  },
  {
   "cell_type": "code",
   "execution_count": 118,
   "id": "8325fb4f",
   "metadata": {},
   "outputs": [
    {
     "data": {
      "text/html": [
       "<div>\n",
       "<style scoped>\n",
       "    .dataframe tbody tr th:only-of-type {\n",
       "        vertical-align: middle;\n",
       "    }\n",
       "\n",
       "    .dataframe tbody tr th {\n",
       "        vertical-align: top;\n",
       "    }\n",
       "\n",
       "    .dataframe thead th {\n",
       "        text-align: right;\n",
       "    }\n",
       "</style>\n",
       "<table border=\"1\" class=\"dataframe\">\n",
       "  <thead>\n",
       "    <tr style=\"text-align: right;\">\n",
       "      <th></th>\n",
       "      <th>id_source</th>\n",
       "      <th>name</th>\n",
       "      <th>address</th>\n",
       "      <th>country</th>\n",
       "      <th>cuisine</th>\n",
       "      <th>currency</th>\n",
       "      <th>delivery_cost</th>\n",
       "      <th>lat</th>\n",
       "      <th>lon</th>\n",
       "      <th>opening_hours</th>\n",
       "      <th>image_url</th>\n",
       "      <th>radius</th>\n",
       "      <th>rating</th>\n",
       "      <th>reviews_nr</th>\n",
       "      <th>delivery_options</th>\n",
       "      <th>promo</th>\n",
       "      <th>loc_type</th>\n",
       "      <th>delivery_by</th>\n",
       "      <th>delivery_time</th>\n",
       "    </tr>\n",
       "  </thead>\n",
       "  <tbody>\n",
       "    <tr>\n",
       "      <th>0</th>\n",
       "      <td>SGDD01085</td>\n",
       "      <td>Texas Chicken</td>\n",
       "      <td>Texas Chicken - VivoCity</td>\n",
       "      <td>Singapore</td>\n",
       "      <td>[\"Western\", \"Fast Food\", \"Halal\", \"Chicken\", \"...</td>\n",
       "      <td>SGD</td>\n",
       "      <td>570.0</td>\n",
       "      <td>1.264792</td>\n",
       "      <td>103.822103</td>\n",
       "      <td>{\"open\": true, \"displayedHours\": \"10:30-21:30\"...</td>\n",
       "      <td>https://d1sag4ddilekf6.cloudfront.net/compress...</td>\n",
       "      <td>5000</td>\n",
       "      <td>3.8</td>\n",
       "      <td>1591.0</td>\n",
       "      <td>ONLY_DELIVERY</td>\n",
       "      <td>Use 'TEATIME' for FREE delivery between 3PM to...</td>\n",
       "      <td>FOOD</td>\n",
       "      <td>GRAB</td>\n",
       "      <td>43.0</td>\n",
       "    </tr>\n",
       "    <tr>\n",
       "      <th>1</th>\n",
       "      <td>4-CYTDLPUJEP53N6</td>\n",
       "      <td>Subway</td>\n",
       "      <td>Subway - Vivocity</td>\n",
       "      <td>Singapore</td>\n",
       "      <td>[\"Healthy\", \"Sandwiches\", \"Fast Food\", \"Halal\"...</td>\n",
       "      <td>SGD</td>\n",
       "      <td>570.0</td>\n",
       "      <td>1.264741</td>\n",
       "      <td>103.822072</td>\n",
       "      <td>{\"open\": true, \"displayedHours\": \"12:00-19:00\"...</td>\n",
       "      <td>https://d1sag4ddilekf6.cloudfront.net/compress...</td>\n",
       "      <td>3000</td>\n",
       "      <td>4.2</td>\n",
       "      <td>197.0</td>\n",
       "      <td>ONLY_DELIVERY</td>\n",
       "      <td>Use 'TEATIME' for FREE delivery between 3PM to...</td>\n",
       "      <td>FOOD</td>\n",
       "      <td>GRAB</td>\n",
       "      <td>42.0</td>\n",
       "    </tr>\n",
       "    <tr>\n",
       "      <th>2</th>\n",
       "      <td>SGDD05605</td>\n",
       "      <td>LiHO Tea</td>\n",
       "      <td>LiHO Tea - Vivo City</td>\n",
       "      <td>Singapore</td>\n",
       "      <td>[\"Same Prices In-Store\", \"Beverages\", \"Local\",...</td>\n",
       "      <td>SGD</td>\n",
       "      <td>560.0</td>\n",
       "      <td>1.264309</td>\n",
       "      <td>103.821369</td>\n",
       "      <td>{\"open\": true, \"displayedHours\": \"11:30-20:45\"...</td>\n",
       "      <td>https://d1sag4ddilekf6.cloudfront.net/compress...</td>\n",
       "      <td>5000</td>\n",
       "      <td>4.5</td>\n",
       "      <td>353.0</td>\n",
       "      <td>DELIVERY_TAKEAWAY</td>\n",
       "      <td>Use 'TEATIME' for FREE delivery between 3PM to...</td>\n",
       "      <td>FOOD</td>\n",
       "      <td>GRAB</td>\n",
       "      <td>41.0</td>\n",
       "    </tr>\n",
       "    <tr>\n",
       "      <th>3</th>\n",
       "      <td>SGDD07548</td>\n",
       "      <td>Wingstop</td>\n",
       "      <td>Wingstop - VivoCity</td>\n",
       "      <td>Singapore</td>\n",
       "      <td>[\"Halal\", \"Chicken\", \"Fast Food\", \"Burger\", \"W...</td>\n",
       "      <td>SGD</td>\n",
       "      <td>560.0</td>\n",
       "      <td>1.263527</td>\n",
       "      <td>103.821712</td>\n",
       "      <td>{\"open\": true, \"displayedHours\": \"11:00-21:00\"...</td>\n",
       "      <td>https://d1sag4ddilekf6.cloudfront.net/compress...</td>\n",
       "      <td>5000</td>\n",
       "      <td>4.4</td>\n",
       "      <td>1391.0</td>\n",
       "      <td>ONLY_DELIVERY</td>\n",
       "      <td>Use 'TEATIME' for FREE delivery between 3PM to...</td>\n",
       "      <td>FOOD</td>\n",
       "      <td>GRAB</td>\n",
       "      <td>45.0</td>\n",
       "    </tr>\n",
       "    <tr>\n",
       "      <th>4</th>\n",
       "      <td>4-CY2ZLZLTT2EDJ2</td>\n",
       "      <td>Le Shrimp Ramen</td>\n",
       "      <td>Le Shrimp Ramen - Vivocity</td>\n",
       "      <td>Singapore</td>\n",
       "      <td>[\"Japanese\", \"Ramen\", \"Noodles\", \"Asian\"]</td>\n",
       "      <td>SGD</td>\n",
       "      <td>570.0</td>\n",
       "      <td>1.264810</td>\n",
       "      <td>103.822554</td>\n",
       "      <td>{\"open\": true, \"displayedHours\": \"10:30-21:00\"...</td>\n",
       "      <td>https://d1sag4ddilekf6.cloudfront.net/compress...</td>\n",
       "      <td>5000</td>\n",
       "      <td>4.6</td>\n",
       "      <td>309.0</td>\n",
       "      <td>DELIVERY_TAKEAWAY</td>\n",
       "      <td>Use 'TEATIME' for FREE delivery between 3PM to...</td>\n",
       "      <td>FOOD</td>\n",
       "      <td>GRAB</td>\n",
       "      <td>44.0</td>\n",
       "    </tr>\n",
       "    <tr>\n",
       "      <th>...</th>\n",
       "      <td>...</td>\n",
       "      <td>...</td>\n",
       "      <td>...</td>\n",
       "      <td>...</td>\n",
       "      <td>...</td>\n",
       "      <td>...</td>\n",
       "      <td>...</td>\n",
       "      <td>...</td>\n",
       "      <td>...</td>\n",
       "      <td>...</td>\n",
       "      <td>...</td>\n",
       "      <td>...</td>\n",
       "      <td>...</td>\n",
       "      <td>...</td>\n",
       "      <td>...</td>\n",
       "      <td>...</td>\n",
       "      <td>...</td>\n",
       "      <td>...</td>\n",
       "      <td>...</td>\n",
       "    </tr>\n",
       "    <tr>\n",
       "      <th>16131</th>\n",
       "      <td>4-CZNFTYKKVA3UN2</td>\n",
       "      <td>Minjiangkueh</td>\n",
       "      <td>Minjiangkueh - Ang Mo Kio Ave 3</td>\n",
       "      <td>Singapore</td>\n",
       "      <td>[\"Asian\", \"Bakery &amp; Cake\", \"Breakfast &amp; Brunch...</td>\n",
       "      <td>NaN</td>\n",
       "      <td>NaN</td>\n",
       "      <td>1.370340</td>\n",
       "      <td>103.843225</td>\n",
       "      <td>{\"displayedHours\": \"Closed\", \"sun\": \"Closed\", ...</td>\n",
       "      <td>https://d1sag4ddilekf6.cloudfront.net/compress...</td>\n",
       "      <td>5000</td>\n",
       "      <td>5.0</td>\n",
       "      <td>2.0</td>\n",
       "      <td>DELIVERY_TAKEAWAY</td>\n",
       "      <td>NaN</td>\n",
       "      <td>FOOD</td>\n",
       "      <td>GRAB</td>\n",
       "      <td>26.0</td>\n",
       "    </tr>\n",
       "    <tr>\n",
       "      <th>16132</th>\n",
       "      <td>SGDD01192</td>\n",
       "      <td>The Modern Izakaya by Tatsu</td>\n",
       "      <td>The Modern Izakaya by Tatsu - Chijmes (#01-18)</td>\n",
       "      <td>Singapore</td>\n",
       "      <td>[\"Japanese\", \"Noodles\", \"Grill\"]</td>\n",
       "      <td>NaN</td>\n",
       "      <td>NaN</td>\n",
       "      <td>1.295404</td>\n",
       "      <td>103.851698</td>\n",
       "      <td>{\"displayedHours\": \"Closed\", \"sun\": \"12:00-14:...</td>\n",
       "      <td>https://d1sag4ddilekf6.cloudfront.net/compress...</td>\n",
       "      <td>3000</td>\n",
       "      <td>NaN</td>\n",
       "      <td>NaN</td>\n",
       "      <td>DELIVERY_TAKEAWAY</td>\n",
       "      <td>NaN</td>\n",
       "      <td>FOOD</td>\n",
       "      <td>GRAB</td>\n",
       "      <td>23.0</td>\n",
       "    </tr>\n",
       "    <tr>\n",
       "      <th>16133</th>\n",
       "      <td>SGDD00961</td>\n",
       "      <td>Raj Restaurant</td>\n",
       "      <td>Raj Restaurant - SOHO @ Farrer</td>\n",
       "      <td>Singapore</td>\n",
       "      <td>[\"Indian\", \"Dessert\", \"Vegetarian\"]</td>\n",
       "      <td>SGD</td>\n",
       "      <td>560.0</td>\n",
       "      <td>1.310830</td>\n",
       "      <td>103.852873</td>\n",
       "      <td>{\"displayedHours\": \"Closed\", \"sun\": \"11:00-22:...</td>\n",
       "      <td>https://d1sag4ddilekf6.cloudfront.net/compress...</td>\n",
       "      <td>3000</td>\n",
       "      <td>3.9</td>\n",
       "      <td>72.0</td>\n",
       "      <td>DELIVERY_TAKEAWAY_DINEIN</td>\n",
       "      <td>NaN</td>\n",
       "      <td>FOOD</td>\n",
       "      <td>GRAB</td>\n",
       "      <td>26.0</td>\n",
       "    </tr>\n",
       "    <tr>\n",
       "      <th>16134</th>\n",
       "      <td>4-C2AHJVATN7C2RE</td>\n",
       "      <td>Albismi Indian Muslim Food</td>\n",
       "      <td>Albismi Indian Muslim Food - Woodlands Road</td>\n",
       "      <td>Singapore</td>\n",
       "      <td>[\"Indian\"]</td>\n",
       "      <td>NaN</td>\n",
       "      <td>NaN</td>\n",
       "      <td>1.396885</td>\n",
       "      <td>103.753440</td>\n",
       "      <td>{\"displayedHours\": \"Closed\", \"sun\": \"09:00-22:...</td>\n",
       "      <td>https://d1sag4ddilekf6.cloudfront.net/compress...</td>\n",
       "      <td>5000</td>\n",
       "      <td>3.6</td>\n",
       "      <td>19.0</td>\n",
       "      <td>DELIVERY_TAKEAWAY</td>\n",
       "      <td>NaN</td>\n",
       "      <td>FOOD</td>\n",
       "      <td>GRAB</td>\n",
       "      <td>30.0</td>\n",
       "    </tr>\n",
       "    <tr>\n",
       "      <th>16135</th>\n",
       "      <td>4-C2DXFEK2R6KJTJ</td>\n",
       "      <td>Zam Zam Indian Special Food</td>\n",
       "      <td>Zam Zam Indian Special Food - Yishun Industria...</td>\n",
       "      <td>Singapore</td>\n",
       "      <td>[\"Indian\"]</td>\n",
       "      <td>NaN</td>\n",
       "      <td>NaN</td>\n",
       "      <td>1.441651</td>\n",
       "      <td>103.831330</td>\n",
       "      <td>{\"displayedHours\": \"Closed\", \"sun\": \"Closed\", ...</td>\n",
       "      <td>https://d1sag4ddilekf6.cloudfront.net/compress...</td>\n",
       "      <td>5000</td>\n",
       "      <td>4.3</td>\n",
       "      <td>37.0</td>\n",
       "      <td>DELIVERY_TAKEAWAY</td>\n",
       "      <td>Use 'TEATIME' for FREE delivery between 3PM to...</td>\n",
       "      <td>FOOD</td>\n",
       "      <td>GRAB</td>\n",
       "      <td>27.0</td>\n",
       "    </tr>\n",
       "  </tbody>\n",
       "</table>\n",
       "<p>16136 rows × 19 columns</p>\n",
       "</div>"
      ],
      "text/plain": [
       "              id_source                         name  \\\n",
       "0             SGDD01085                Texas Chicken   \n",
       "1      4-CYTDLPUJEP53N6                       Subway   \n",
       "2             SGDD05605                     LiHO Tea   \n",
       "3             SGDD07548                     Wingstop   \n",
       "4      4-CY2ZLZLTT2EDJ2              Le Shrimp Ramen   \n",
       "...                 ...                          ...   \n",
       "16131  4-CZNFTYKKVA3UN2                 Minjiangkueh   \n",
       "16132         SGDD01192  The Modern Izakaya by Tatsu   \n",
       "16133         SGDD00961               Raj Restaurant   \n",
       "16134  4-C2AHJVATN7C2RE   Albismi Indian Muslim Food   \n",
       "16135  4-C2DXFEK2R6KJTJ  Zam Zam Indian Special Food   \n",
       "\n",
       "                                                 address    country  \\\n",
       "0                               Texas Chicken - VivoCity  Singapore   \n",
       "1                                      Subway - Vivocity  Singapore   \n",
       "2                                   LiHO Tea - Vivo City  Singapore   \n",
       "3                                    Wingstop - VivoCity  Singapore   \n",
       "4                             Le Shrimp Ramen - Vivocity  Singapore   \n",
       "...                                                  ...        ...   \n",
       "16131                    Minjiangkueh - Ang Mo Kio Ave 3  Singapore   \n",
       "16132     The Modern Izakaya by Tatsu - Chijmes (#01-18)  Singapore   \n",
       "16133                     Raj Restaurant - SOHO @ Farrer  Singapore   \n",
       "16134        Albismi Indian Muslim Food - Woodlands Road  Singapore   \n",
       "16135  Zam Zam Indian Special Food - Yishun Industria...  Singapore   \n",
       "\n",
       "                                                 cuisine currency  \\\n",
       "0      [\"Western\", \"Fast Food\", \"Halal\", \"Chicken\", \"...      SGD   \n",
       "1      [\"Healthy\", \"Sandwiches\", \"Fast Food\", \"Halal\"...      SGD   \n",
       "2      [\"Same Prices In-Store\", \"Beverages\", \"Local\",...      SGD   \n",
       "3      [\"Halal\", \"Chicken\", \"Fast Food\", \"Burger\", \"W...      SGD   \n",
       "4              [\"Japanese\", \"Ramen\", \"Noodles\", \"Asian\"]      SGD   \n",
       "...                                                  ...      ...   \n",
       "16131  [\"Asian\", \"Bakery & Cake\", \"Breakfast & Brunch...      NaN   \n",
       "16132                   [\"Japanese\", \"Noodles\", \"Grill\"]      NaN   \n",
       "16133                [\"Indian\", \"Dessert\", \"Vegetarian\"]      SGD   \n",
       "16134                                         [\"Indian\"]      NaN   \n",
       "16135                                         [\"Indian\"]      NaN   \n",
       "\n",
       "       delivery_cost       lat         lon  \\\n",
       "0              570.0  1.264792  103.822103   \n",
       "1              570.0  1.264741  103.822072   \n",
       "2              560.0  1.264309  103.821369   \n",
       "3              560.0  1.263527  103.821712   \n",
       "4              570.0  1.264810  103.822554   \n",
       "...              ...       ...         ...   \n",
       "16131            NaN  1.370340  103.843225   \n",
       "16132            NaN  1.295404  103.851698   \n",
       "16133          560.0  1.310830  103.852873   \n",
       "16134            NaN  1.396885  103.753440   \n",
       "16135            NaN  1.441651  103.831330   \n",
       "\n",
       "                                           opening_hours  \\\n",
       "0      {\"open\": true, \"displayedHours\": \"10:30-21:30\"...   \n",
       "1      {\"open\": true, \"displayedHours\": \"12:00-19:00\"...   \n",
       "2      {\"open\": true, \"displayedHours\": \"11:30-20:45\"...   \n",
       "3      {\"open\": true, \"displayedHours\": \"11:00-21:00\"...   \n",
       "4      {\"open\": true, \"displayedHours\": \"10:30-21:00\"...   \n",
       "...                                                  ...   \n",
       "16131  {\"displayedHours\": \"Closed\", \"sun\": \"Closed\", ...   \n",
       "16132  {\"displayedHours\": \"Closed\", \"sun\": \"12:00-14:...   \n",
       "16133  {\"displayedHours\": \"Closed\", \"sun\": \"11:00-22:...   \n",
       "16134  {\"displayedHours\": \"Closed\", \"sun\": \"09:00-22:...   \n",
       "16135  {\"displayedHours\": \"Closed\", \"sun\": \"Closed\", ...   \n",
       "\n",
       "                                               image_url  radius  rating  \\\n",
       "0      https://d1sag4ddilekf6.cloudfront.net/compress...    5000     3.8   \n",
       "1      https://d1sag4ddilekf6.cloudfront.net/compress...    3000     4.2   \n",
       "2      https://d1sag4ddilekf6.cloudfront.net/compress...    5000     4.5   \n",
       "3      https://d1sag4ddilekf6.cloudfront.net/compress...    5000     4.4   \n",
       "4      https://d1sag4ddilekf6.cloudfront.net/compress...    5000     4.6   \n",
       "...                                                  ...     ...     ...   \n",
       "16131  https://d1sag4ddilekf6.cloudfront.net/compress...    5000     5.0   \n",
       "16132  https://d1sag4ddilekf6.cloudfront.net/compress...    3000     NaN   \n",
       "16133  https://d1sag4ddilekf6.cloudfront.net/compress...    3000     3.9   \n",
       "16134  https://d1sag4ddilekf6.cloudfront.net/compress...    5000     3.6   \n",
       "16135  https://d1sag4ddilekf6.cloudfront.net/compress...    5000     4.3   \n",
       "\n",
       "       reviews_nr          delivery_options  \\\n",
       "0          1591.0             ONLY_DELIVERY   \n",
       "1           197.0             ONLY_DELIVERY   \n",
       "2           353.0         DELIVERY_TAKEAWAY   \n",
       "3          1391.0             ONLY_DELIVERY   \n",
       "4           309.0         DELIVERY_TAKEAWAY   \n",
       "...           ...                       ...   \n",
       "16131         2.0         DELIVERY_TAKEAWAY   \n",
       "16132         NaN         DELIVERY_TAKEAWAY   \n",
       "16133        72.0  DELIVERY_TAKEAWAY_DINEIN   \n",
       "16134        19.0         DELIVERY_TAKEAWAY   \n",
       "16135        37.0         DELIVERY_TAKEAWAY   \n",
       "\n",
       "                                                   promo loc_type delivery_by  \\\n",
       "0      Use 'TEATIME' for FREE delivery between 3PM to...     FOOD        GRAB   \n",
       "1      Use 'TEATIME' for FREE delivery between 3PM to...     FOOD        GRAB   \n",
       "2      Use 'TEATIME' for FREE delivery between 3PM to...     FOOD        GRAB   \n",
       "3      Use 'TEATIME' for FREE delivery between 3PM to...     FOOD        GRAB   \n",
       "4      Use 'TEATIME' for FREE delivery between 3PM to...     FOOD        GRAB   \n",
       "...                                                  ...      ...         ...   \n",
       "16131                                                NaN     FOOD        GRAB   \n",
       "16132                                                NaN     FOOD        GRAB   \n",
       "16133                                                NaN     FOOD        GRAB   \n",
       "16134                                                NaN     FOOD        GRAB   \n",
       "16135  Use 'TEATIME' for FREE delivery between 3PM to...     FOOD        GRAB   \n",
       "\n",
       "       delivery_time  \n",
       "0               43.0  \n",
       "1               42.0  \n",
       "2               41.0  \n",
       "3               45.0  \n",
       "4               44.0  \n",
       "...              ...  \n",
       "16131           26.0  \n",
       "16132           23.0  \n",
       "16133           26.0  \n",
       "16134           30.0  \n",
       "16135           27.0  \n",
       "\n",
       "[16136 rows x 19 columns]"
      ]
     },
     "execution_count": 118,
     "metadata": {},
     "output_type": "execute_result"
    }
   ],
   "source": [
    "df_sg"
   ]
  },
  {
   "cell_type": "code",
   "execution_count": 119,
   "id": "b389c27a",
   "metadata": {},
   "outputs": [
    {
     "data": {
      "text/plain": [
       "648"
      ]
     },
     "execution_count": 119,
     "metadata": {},
     "output_type": "execute_result"
    }
   ],
   "source": [
    "df_sg[\"cuisine\"].str.contains('Coffee').sum()"
   ]
  },
  {
   "cell_type": "code",
   "execution_count": 120,
   "id": "58fb98b0",
   "metadata": {},
   "outputs": [],
   "source": [
    "df_sg_coffee = df_sg[df_sg[\"cuisine\"].str.contains('Coffee') ==True]"
   ]
  },
  {
   "cell_type": "code",
   "execution_count": 121,
   "id": "a0fa537b",
   "metadata": {},
   "outputs": [],
   "source": [
    "freq_sort = df_sg_coffee[\"name\"].value_counts().index.tolist()"
   ]
  },
  {
   "cell_type": "markdown",
   "id": "f8b12fd0",
   "metadata": {},
   "source": [
    "## Get Mainstream Chain"
   ]
  },
  {
   "cell_type": "code",
   "execution_count": 122,
   "id": "41029ec2",
   "metadata": {},
   "outputs": [],
   "source": [
    "popular = freq_sort[:4]"
   ]
  },
  {
   "cell_type": "code",
   "execution_count": 123,
   "id": "58546568",
   "metadata": {},
   "outputs": [
    {
     "data": {
      "text/plain": [
       "['Starbucks', 'Toast Box', 'Fun Toast', \"Dunkin' Donuts\"]"
      ]
     },
     "execution_count": 123,
     "metadata": {},
     "output_type": "execute_result"
    }
   ],
   "source": [
    "popular"
   ]
  },
  {
   "cell_type": "code",
   "execution_count": 124,
   "id": "28bf7dfb",
   "metadata": {},
   "outputs": [
    {
     "name": "stderr",
     "output_type": "stream",
     "text": [
      "/tmp/ipykernel_18149/3357688535.py:1: SettingWithCopyWarning: \n",
      "A value is trying to be set on a copy of a slice from a DataFrame.\n",
      "Try using .loc[row_indexer,col_indexer] = value instead\n",
      "\n",
      "See the caveats in the documentation: https://pandas.pydata.org/pandas-docs/stable/user_guide/indexing.html#returning-a-view-versus-a-copy\n",
      "  df_sg_coffee[\"is_mainstream_chain\"] = 0\n"
     ]
    }
   ],
   "source": [
    "df_sg_coffee[\"is_mainstream_chain\"] = 0"
   ]
  },
  {
   "cell_type": "code",
   "execution_count": 125,
   "id": "6788c387",
   "metadata": {},
   "outputs": [
    {
     "name": "stderr",
     "output_type": "stream",
     "text": [
      "/tmp/ipykernel_18149/3641446469.py:6: SettingWithCopyWarning: \n",
      "A value is trying to be set on a copy of a slice from a DataFrame\n",
      "\n",
      "See the caveats in the documentation: https://pandas.pydata.org/pandas-docs/stable/user_guide/indexing.html#returning-a-view-versus-a-copy\n",
      "  df_sg_coffee[\"is_mainstream_chain\"].iloc[i] = 0\n",
      "/tmp/ipykernel_18149/3641446469.py:3: SettingWithCopyWarning: \n",
      "A value is trying to be set on a copy of a slice from a DataFrame\n",
      "\n",
      "See the caveats in the documentation: https://pandas.pydata.org/pandas-docs/stable/user_guide/indexing.html#returning-a-view-versus-a-copy\n",
      "  df_sg_coffee[\"is_mainstream_chain\"].iloc[i] = 1\n"
     ]
    }
   ],
   "source": [
    "for i in range(len(df_sg_coffee)):\n",
    "    if df_sg_coffee[\"name\"].iloc[i] in popular:\n",
    "        df_sg_coffee[\"is_mainstream_chain\"].iloc[i] = 1\n",
    "        \n",
    "    else:\n",
    "        df_sg_coffee[\"is_mainstream_chain\"].iloc[i] = 0\n"
   ]
  },
  {
   "cell_type": "code",
   "execution_count": 126,
   "id": "937c894c",
   "metadata": {},
   "outputs": [
    {
     "data": {
      "text/plain": [
       "0    544\n",
       "1    104\n",
       "Name: is_mainstream_chain, dtype: int64"
      ]
     },
     "execution_count": 126,
     "metadata": {},
     "output_type": "execute_result"
    }
   ],
   "source": [
    "df_sg_coffee[\"is_mainstream_chain\"].value_counts()"
   ]
  },
  {
   "cell_type": "code",
   "execution_count": 129,
   "id": "838d46d6",
   "metadata": {},
   "outputs": [
    {
     "data": {
      "text/plain": [
       "'{\"open\": true, \"displayedHours\": \"11:00-22:00\", \"sun\": \"11:00-22:00\", \"mon\": \"12:00-21:20\", \"tue\": \"12:00-21:20\", \"wed\": \"12:00-21:30\", \"thu\": \"12:00-21:20\", \"fri\": \"11:00-21:50\", \"sat\": \"11:00-22:00\"}'"
      ]
     },
     "execution_count": 129,
     "metadata": {},
     "output_type": "execute_result"
    }
   ],
   "source": [
    "df_sg_coffee[\"opening_hours\"].iloc[0]"
   ]
  },
  {
   "cell_type": "code",
   "execution_count": 130,
   "id": "9de96c23",
   "metadata": {},
   "outputs": [],
   "source": [
    "import json\n",
    "\n",
    "json_ex = json.loads(df_sg_coffee[\"opening_hours\"].iloc[0])"
   ]
  },
  {
   "cell_type": "code",
   "execution_count": 132,
   "id": "ec6b6ed5",
   "metadata": {},
   "outputs": [
    {
     "data": {
      "text/plain": [
       "'11:00-22:00'"
      ]
     },
     "execution_count": 132,
     "metadata": {},
     "output_type": "execute_result"
    }
   ],
   "source": [
    "json_ex[\"sun\"]"
   ]
  },
  {
   "cell_type": "markdown",
   "id": "d34cccdd",
   "metadata": {},
   "source": [
    "## Create the lean data"
   ]
  },
  {
   "cell_type": "code",
   "execution_count": null,
   "id": "89897899",
   "metadata": {},
   "outputs": [],
   "source": [
    "new_df_sg = df_sg[[\"name\", \"\"]]"
   ]
  },
  {
   "cell_type": "code",
   "execution_count": 20,
   "id": "0199c9c7",
   "metadata": {},
   "outputs": [
    {
     "name": "stdout",
     "output_type": "stream",
     "text": [
      "1.3700803\n",
      "103.8495228\n"
     ]
    }
   ],
   "source": [
    "import requests\n",
    "import urllib.parse\n",
    "\n",
    "address = 'ang mo kio'\n",
    "url = 'https://nominatim.openstreetmap.org/search/' + urllib.parse.quote(address) +'?format=json'\n",
    "\n",
    "response = requests.get(url).json()\n",
    "print(response[0][\"lat\"])\n",
    "print(response[0][\"lon\"])\n"
   ]
  },
  {
   "cell_type": "code",
   "execution_count": null,
   "id": "10e500e1",
   "metadata": {},
   "outputs": [],
   "source": [
    "# http://maps.google.com/maps/dir/1.20,+103.8221/51.3841,-114.01679"
   ]
  }
 ],
 "metadata": {
  "kernelspec": {
   "display_name": "Python 3 (ipykernel)",
   "language": "python",
   "name": "python3"
  },
  "language_info": {
   "codemirror_mode": {
    "name": "ipython",
    "version": 3
   },
   "file_extension": ".py",
   "mimetype": "text/x-python",
   "name": "python",
   "nbconvert_exporter": "python",
   "pygments_lexer": "ipython3",
   "version": "3.9.13"
  }
 },
 "nbformat": 4,
 "nbformat_minor": 5
}
